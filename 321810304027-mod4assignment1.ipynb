{
 "cells": [
  {
   "cell_type": "code",
   "execution_count": 11,
   "metadata": {},
   "outputs": [
    {
     "name": "stdout",
     "output_type": "stream",
     "text": [
      "Hi,Welcome to python.\n",
      "Python is high level programming language.\n",
      "It was invented by guido von rossum.\n",
      "The latest version is 3.8.3.\n"
     ]
    }
   ],
   "source": [
    "def file_read(fname):\n",
    "        txt = open(fname)\n",
    "        print(txt.read())\n",
    "file_read('test.txt')\n"
   ]
  },
  {
   "cell_type": "code",
   "execution_count": 12,
   "metadata": {},
   "outputs": [
    {
     "name": "stdout",
     "output_type": "stream",
     "text": [
      "Hi,Welcome to python.\n",
      "\n",
      "Python is high level programming language.\n",
      "\n"
     ]
    }
   ],
   "source": [
    "file = open(\"test.txt\")\n",
    "num = 2\n",
    "for i in range(num):\n",
    "  line = file.readline()\n",
    "  print(line)"
   ]
  },
  {
   "cell_type": "code",
   "execution_count": 13,
   "metadata": {},
   "outputs": [
    {
     "name": "stdout",
     "output_type": "stream",
     "text": [
      "Anaconda\n",
      "Jupyter notebook\n"
     ]
    }
   ],
   "source": [
    "def file_read(fname):\n",
    "        from itertools import islice\n",
    "        with open(fname, \"w\") as myfile:\n",
    "                myfile.write(\"Anaconda\\n\")\n",
    "                myfile.write(\"Jupyter notebook\")\n",
    "        txt = open(fname)\n",
    "        print(txt.read())\n",
    "file_read('test1.txt')"
   ]
  },
  {
   "cell_type": "code",
   "execution_count": 16,
   "metadata": {},
   "outputs": [
    {
     "name": "stdout",
     "output_type": "stream",
     "text": [
      "It was invented by guido von rossum.\n",
      "The latest version is 3.8.3."
     ]
    }
   ],
   "source": [
    "def LastNlines(fname, N): \n",
    "    with open(fname) as file:  \n",
    "        for line in (file.readlines() [-N:]): \n",
    "            print(line, end ='')  \n",
    "if __name__ == '__main__': \n",
    "    fname = 'test.txt'\n",
    "    N = 2\n",
    "    try: \n",
    "        LastNlines(fname, N) \n",
    "    except: \n",
    "        print('File not found')"
   ]
  },
  {
   "cell_type": "code",
   "execution_count": 17,
   "metadata": {},
   "outputs": [
    {
     "name": "stdout",
     "output_type": "stream",
     "text": [
      "['Hi,Welcome to python.\\n', 'Python is high level programming language.\\n', 'It was invented by guido von rossum.\\n', 'The latest version is 3.8.3.']\n"
     ]
    }
   ],
   "source": [
    "def file_read(fname):\n",
    "        with open (fname, \"r\") as myfile:\n",
    "                data=myfile.readlines()\n",
    "                print(data)\n",
    "file_read('test.txt')"
   ]
  },
  {
   "cell_type": "code",
   "execution_count": 19,
   "metadata": {},
   "outputs": [
    {
     "name": "stdout",
     "output_type": "stream",
     "text": [
      "['Hi,Welcome to python.\\n', 'Python is high level programming language.\\n', 'It was invented by guido von rossum.\\n', 'The latest version is 3.8.3.']\n"
     ]
    }
   ],
   "source": [
    "def file_read(fname):\n",
    "        with open(fname) as f:\n",
    "                #Content_list is the list that contains the read lines.     \n",
    "                content_list = f.readlines()\n",
    "                print(content_list)\n",
    "\n",
    "file_read('test.txt')"
   ]
  }
 ],
 "metadata": {
  "kernelspec": {
   "display_name": "Python 3",
   "language": "python",
   "name": "python3"
  },
  "language_info": {
   "codemirror_mode": {
    "name": "ipython",
    "version": 3
   },
   "file_extension": ".py",
   "mimetype": "text/x-python",
   "name": "python",
   "nbconvert_exporter": "python",
   "pygments_lexer": "ipython3",
   "version": "3.7.6"
  }
 },
 "nbformat": 4,
 "nbformat_minor": 4
}
